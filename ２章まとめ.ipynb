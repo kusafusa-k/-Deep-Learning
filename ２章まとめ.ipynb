{
 "cells": [
  {
   "attachments": {
    "images.png": {
     "image/png": "[encoded data removed]"
    }
   },
   "cell_type": "markdown",
   "metadata": {},
   "source": [
    "# パーセプトロン\n",
    "\n",
    "- パーセプトロンは入出力を備えたアルゴリズム。ある入力を与えたら、決まった値が出力される\n",
    "- パーセプトロンでは「重み」「バイアス」をパラメタとして設定する\n",
    "    - $x_1$,$x_2$は入力信号、yは出力信号、$w_1$,$w_2$は重み\n",
    "    - 重みが大きければ大きいほど、その重みに対応する信号の重要性が高くなる\n",
    "        - 重みは、電流で言うところの「抵抗」である\n",
    "    - ニューロンでは、送られてきた信号の挿話が計算され、その総和がある限界値を超えた場合にのみ１を出力する（ニューロンが発火する）\n",
    "        - その限界値を闘値と呼び、θで表す\n",
    "\n",
    "$$\n",
    "y = \\left\\{\n",
    "    \\begin{array}{ll}\n",
    "        0 & (w_1x_1 + w_2x_2 <= θ) \\\\\n",
    "        1 & (w_1x_1 + w_2x_2 > θ)\n",
    "    \\end{array}\n",
    "\\right.\n",
    "$$\n",
    "\n",
    "- -θをbとして、bをバイアスと呼ぶ\n",
    "    - バイアスは発火のし易さ---出力信号が１を出力する度合い---を調整するパラメタ\n",
    "\n",
    "$$\n",
    "y = \\left\\{\n",
    "    \\begin{array}{ll}\n",
    "        0 & (b + w_1x_1 + w_2x_2 <= 0) \\\\\n",
    "        1 & (b + w_1x_1 + w_2x_2 > 0)\n",
    "    \\end{array}\n",
    "\\right.\n",
    "$$\n",
    "\n",
    "- パーセプトロンを用いれば、ANDやORゲートなどの論理回路を表現できる\n",
    "- XORゲートは単層のパーセプトロンでは表現できない\n",
    "- 2層のパーセプトロンを用いれば、XORゲートを表現することができる\n",
    "\n",
    "![images.png](attachment:images.png)\n",
    "\n",
    "- 単層のパーセプトロンは線形領域だけしか表現出来ないのに対して、多層のパーセプトロンは非線形領域を表現することができる\n",
    "- 多層のパーセプトロンは、（理論上）コンピュータを表現できる\n",
    "\n",
    "\n",
    "- 学習とは\n",
    "    - 適切なパラメータを決める作業であり、人が行う仕事は、パーセプトロンの構造（モデル）を考え、コンピュータに学習データを与えること"
   ]
  },
  {
   "cell_type": "markdown",
   "metadata": {},
   "source": [
    "## AND回路"
   ]
  },
  {
   "cell_type": "code",
   "execution_count": 1,
   "metadata": {},
   "outputs": [
    {
     "name": "stdout",
     "output_type": "stream",
     "text": [
      "(0, 0) -> 0\n",
      "(0, 1) -> 0\n",
      "(1, 0) -> 0\n",
      "(1, 1) -> 1\n"
     ]
    }
   ],
   "source": [
    "def AND(x1, x2):\n",
    "    w1, w2, theta = 0.5, 0.5, 0.7\n",
    "    \n",
    "    tmp = x1 * w1 + x2 * w2\n",
    "    \n",
    "    if tmp <= theta:\n",
    "        return 0\n",
    "    elif tmp > theta:\n",
    "        return 1\n",
    "    \n",
    "if __name__ == '__main__':\n",
    "    for xs in [(0, 0), (0, 1), (1, 0), (1, 1)]:\n",
    "        y = AND(xs[0], xs[1])\n",
    "        print(str(xs) +  ' -> ' + str(y))"
   ]
  },
  {
   "cell_type": "markdown",
   "metadata": {},
   "source": [
    "## AND回路(-θをb(バイアス)とした場合)、NAND回路、OR回路、XOR回路"
   ]
  },
  {
   "cell_type": "code",
   "execution_count": 4,
   "metadata": {
    "scrolled": false
   },
   "outputs": [],
   "source": [
    "import numpy as np\n",
    "\n",
    "def AND(x1, x2):\n",
    "    x = np.array([x1, x2])\n",
    "    w = np.array([0.5, 0.5])\n",
    "    b = -0.7\n",
    "    \n",
    "    tmp = w @ x + b\n",
    "#     print('tmp = {} @ {} + {}'.format(w,x,b))\n",
    "    \n",
    "    if tmp <= 0:\n",
    "        return 0\n",
    "    else:\n",
    "        return 1\n",
    "\n",
    "    \n",
    "def NAND(x1, x2):\n",
    "    x = np.array([x1, x2])\n",
    "    w = np.array([-0.5, -0.5])\n",
    "    b = 0.7\n",
    "    \n",
    "    tmp = w @ x + b\n",
    "#     print('tmp = {} @ {} + {}'.format(w,x,b))\n",
    "    \n",
    "    if tmp <= 0:\n",
    "        return 0\n",
    "    else:\n",
    "        return 1\n",
    "\n",
    "    \n",
    "def OR(x1, x2):\n",
    "    x = np.array([x1, x2])\n",
    "    w = np.array([0.5, 0.5])\n",
    "    b = -0.2\n",
    "    \n",
    "    tmp = w @ x + b\n",
    "#     print('tmp = {} @ {} + {}'.format(w,x,b))\n",
    "    \n",
    "    if tmp <= 0:\n",
    "        return 0\n",
    "    else:\n",
    "        return 1\n",
    "\n",
    "    \n",
    "def XOR(x1, x2):\n",
    "    s1 = NAND(x1, x2)\n",
    "    s2 = OR(x1, x2)\n",
    "    y = AND(s1, s2)\n",
    "    \n",
    "    return y"
   ]
  },
  {
   "cell_type": "code",
   "execution_count": 5,
   "metadata": {
    "scrolled": false
   },
   "outputs": [
    {
     "name": "stdout",
     "output_type": "stream",
     "text": [
      "[AND]\n",
      "(0, 0) -> 0\n",
      "(0, 1) -> 0\n",
      "(1, 0) -> 0\n",
      "(1, 1) -> 1\n",
      "\n",
      "[NAND]\n",
      "(0, 0) -> 1\n",
      "(0, 1) -> 1\n",
      "(1, 0) -> 1\n",
      "(1, 1) -> 0\n",
      "\n",
      "[OR]\n",
      "(0, 0) -> 0\n",
      "(0, 1) -> 1\n",
      "(1, 0) -> 1\n",
      "(1, 1) -> 1\n",
      "\n",
      "[XOR]\n",
      "(0, 0) -> 0\n",
      "(0, 1) -> 1\n",
      "(1, 0) -> 1\n",
      "(1, 1) -> 0\n"
     ]
    }
   ],
   "source": [
    "if __name__ == '__main__':\n",
    "    input_data = [(0, 0), (0, 1), (1, 0), (1, 1)]\n",
    "\n",
    "    print('[AND]')\n",
    "    for xs in input_data:\n",
    "        y = AND(xs[0], xs[1])\n",
    "        print(str(xs) +  ' -> ' + str(y))\n",
    "        \n",
    "    print('\\n[NAND]')\n",
    "    for xs in input_data:\n",
    "        y = NAND(xs[0], xs[1])\n",
    "        print( str(xs) +  ' -> ' + str(y))\n",
    "        \n",
    "    print('\\n[OR]')\n",
    "    for xs in input_data:\n",
    "        y = OR(xs[0], xs[1])\n",
    "        print(str(xs) +  ' -> ' + str(y))\n",
    "        \n",
    "    print('\\n[XOR]')\n",
    "    for xs in input_data:\n",
    "        y = XOR(xs[0], xs[1])\n",
    "        print(str(xs) +  ' -> ' + str(y))"
   ]
  },
  {
   "cell_type": "code",
   "execution_count": null,
   "metadata": {},
   "outputs": [],
   "source": []
  }
 ],
 "metadata": {
  "kernelspec": {
   "display_name": "Python 3",
   "language": "python",
   "name": "python3"
  },
  "language_info": {
   "codemirror_mode": {
    "name": "ipython",
    "version": 3
   },
   "file_extension": ".py",
   "mimetype": "text/x-python",
   "name": "python",
   "nbconvert_exporter": "python",
   "pygments_lexer": "ipython3",
   "version": "3.6.5"
  }
 },
 "nbformat": 4,
 "nbformat_minor": 2
}
